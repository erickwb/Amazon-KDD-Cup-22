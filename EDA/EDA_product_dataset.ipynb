{
 "cells": [
  {
   "cell_type": "code",
   "execution_count": 5,
   "metadata": {},
   "outputs": [],
   "source": [
    "import pandas as pd\n",
    "import numpy as np\n",
    "from sklearn import preprocessing\n",
    "import lightgbm as lgb\n",
    "import matplotlib.pylab as plt\n",
    "\n",
    "\n",
    "\n",
    "from lightgbm import LGBMRanker\n",
    "from annoy import AnnoyIndex"
   ]
  },
  {
   "cell_type": "code",
   "execution_count": 6,
   "metadata": {},
   "outputs": [],
   "source": [
    "product_df = pd.read_csv('product_catalogue-v0.3.csv')"
   ]
  },
  {
   "cell_type": "code",
   "execution_count": 7,
   "metadata": {},
   "outputs": [
    {
     "name": "stdout",
     "output_type": "stream",
     "text": [
      "shape product catalogue =  (883868, 7)\n"
     ]
    }
   ],
   "source": [
    "print(\"shape product catalogue = \" , product_df.shape)"
   ]
  },
  {
   "cell_type": "code",
   "execution_count": 8,
   "metadata": {},
   "outputs": [
    {
     "name": "stdout",
     "output_type": "stream",
     "text": [
      "<class 'pandas.core.frame.DataFrame'>\n",
      "RangeIndex: 883868 entries, 0 to 883867\n",
      "Data columns (total 7 columns):\n",
      " #   Column                Non-Null Count   Dtype \n",
      "---  ------                --------------   ----- \n",
      " 0   product_id            883868 non-null  object\n",
      " 1   product_title         883719 non-null  object\n",
      " 2   product_description   446710 non-null  object\n",
      " 3   product_bullet_point  739196 non-null  object\n",
      " 4   product_brand         807927 non-null  object\n",
      " 5   product_color_name    533660 non-null  object\n",
      " 6   product_locale        883868 non-null  object\n",
      "dtypes: object(7)\n",
      "memory usage: 47.2+ MB\n"
     ]
    },
    {
     "data": {
      "text/html": [
       "<div>\n",
       "<style scoped>\n",
       "    .dataframe tbody tr th:only-of-type {\n",
       "        vertical-align: middle;\n",
       "    }\n",
       "\n",
       "    .dataframe tbody tr th {\n",
       "        vertical-align: top;\n",
       "    }\n",
       "\n",
       "    .dataframe thead th {\n",
       "        text-align: right;\n",
       "    }\n",
       "</style>\n",
       "<table border=\"1\" class=\"dataframe\">\n",
       "  <thead>\n",
       "    <tr style=\"text-align: right;\">\n",
       "      <th></th>\n",
       "      <th>product_id</th>\n",
       "      <th>product_title</th>\n",
       "      <th>product_description</th>\n",
       "      <th>product_bullet_point</th>\n",
       "      <th>product_brand</th>\n",
       "      <th>product_color_name</th>\n",
       "      <th>product_locale</th>\n",
       "    </tr>\n",
       "  </thead>\n",
       "  <tbody>\n",
       "    <tr>\n",
       "      <th>0</th>\n",
       "      <td>B0188A3QRM</td>\n",
       "      <td>Amazon Basics Woodcased #2 Pencils, Unsharpene...</td>\n",
       "      <td>NaN</td>\n",
       "      <td>144 woodcase #2 HB pencils made from high-qual...</td>\n",
       "      <td>Amazon Basics</td>\n",
       "      <td>Yellow</td>\n",
       "      <td>us</td>\n",
       "    </tr>\n",
       "    <tr>\n",
       "      <th>1</th>\n",
       "      <td>B075VXJ9VG</td>\n",
       "      <td>BAZIC Pencil #2 HB Pencils, Latex Free Eraser,...</td>\n",
       "      <td>&lt;p&gt;&lt;strong&gt;BACK TO BAZIC&lt;/strong&gt;&lt;/p&gt;&lt;p&gt;Our go...</td>\n",
       "      <td>&amp;#11088; UN-SHARPENED #2 PREMIUM PENCILS. Each...</td>\n",
       "      <td>BAZIC Products</td>\n",
       "      <td>12-count</td>\n",
       "      <td>us</td>\n",
       "    </tr>\n",
       "    <tr>\n",
       "      <th>2</th>\n",
       "      <td>B07G7F6JZ6</td>\n",
       "      <td>Emraw Pre Sharpened Round Primary Size No 2 Ju...</td>\n",
       "      <td>&lt;p&gt;&lt;b&gt;Emraw Pre-Sharpened #2 HB Wood Pencils -...</td>\n",
       "      <td>✓ PACK OF 8 NUMBER 2 PRESHARPENED BEGINNERS PE...</td>\n",
       "      <td>Emraw</td>\n",
       "      <td>Yellow</td>\n",
       "      <td>us</td>\n",
       "    </tr>\n",
       "    <tr>\n",
       "      <th>3</th>\n",
       "      <td>B07JZJLHCF</td>\n",
       "      <td>Emraw Pre Sharpened Triangular Primary Size No...</td>\n",
       "      <td>&lt;p&gt;&lt;b&gt;Emraw Pre-Sharpened #2 HB Wood Pencils -...</td>\n",
       "      <td>✓ PACK OF 6 NUMBER 2 PRESHARPENED BEGINNERS PE...</td>\n",
       "      <td>Emraw</td>\n",
       "      <td>Yellow</td>\n",
       "      <td>us</td>\n",
       "    </tr>\n",
       "    <tr>\n",
       "      <th>4</th>\n",
       "      <td>B07MGKC3DD</td>\n",
       "      <td>BIC Evolution Cased Pencil, #2 Lead, Gray Barr...</td>\n",
       "      <td>NaN</td>\n",
       "      <td>Premium #2 HB lead pencils with break-resistan...</td>\n",
       "      <td>Design House</td>\n",
       "      <td>Gray</td>\n",
       "      <td>us</td>\n",
       "    </tr>\n",
       "  </tbody>\n",
       "</table>\n",
       "</div>"
      ],
      "text/plain": [
       "   product_id                                      product_title  \\\n",
       "0  B0188A3QRM  Amazon Basics Woodcased #2 Pencils, Unsharpene...   \n",
       "1  B075VXJ9VG  BAZIC Pencil #2 HB Pencils, Latex Free Eraser,...   \n",
       "2  B07G7F6JZ6  Emraw Pre Sharpened Round Primary Size No 2 Ju...   \n",
       "3  B07JZJLHCF  Emraw Pre Sharpened Triangular Primary Size No...   \n",
       "4  B07MGKC3DD  BIC Evolution Cased Pencil, #2 Lead, Gray Barr...   \n",
       "\n",
       "                                 product_description  \\\n",
       "0                                                NaN   \n",
       "1  <p><strong>BACK TO BAZIC</strong></p><p>Our go...   \n",
       "2  <p><b>Emraw Pre-Sharpened #2 HB Wood Pencils -...   \n",
       "3  <p><b>Emraw Pre-Sharpened #2 HB Wood Pencils -...   \n",
       "4                                                NaN   \n",
       "\n",
       "                                product_bullet_point   product_brand  \\\n",
       "0  144 woodcase #2 HB pencils made from high-qual...   Amazon Basics   \n",
       "1  &#11088; UN-SHARPENED #2 PREMIUM PENCILS. Each...  BAZIC Products   \n",
       "2  ✓ PACK OF 8 NUMBER 2 PRESHARPENED BEGINNERS PE...           Emraw   \n",
       "3  ✓ PACK OF 6 NUMBER 2 PRESHARPENED BEGINNERS PE...           Emraw   \n",
       "4  Premium #2 HB lead pencils with break-resistan...    Design House   \n",
       "\n",
       "  product_color_name product_locale  \n",
       "0             Yellow             us  \n",
       "1           12-count             us  \n",
       "2             Yellow             us  \n",
       "3             Yellow             us  \n",
       "4               Gray             us  "
      ]
     },
     "execution_count": 8,
     "metadata": {},
     "output_type": "execute_result"
    }
   ],
   "source": [
    "product_df.info()\n",
    "product_df.head()"
   ]
  },
  {
   "cell_type": "code",
   "execution_count": 9,
   "metadata": {},
   "outputs": [
    {
     "data": {
      "text/plain": [
       "product_id                   0\n",
       "product_title              149\n",
       "product_description     437158\n",
       "product_bullet_point    144672\n",
       "product_brand            75941\n",
       "product_color_name      350208\n",
       "product_locale               0\n",
       "dtype: int64"
      ]
     },
     "execution_count": 9,
     "metadata": {},
     "output_type": "execute_result"
    }
   ],
   "source": [
    "product_df.isnull().sum()"
   ]
  }
 ],
 "metadata": {
  "kernelspec": {
   "display_name": "Python 3.8.10 64-bit",
   "language": "python",
   "name": "python3"
  },
  "language_info": {
   "codemirror_mode": {
    "name": "ipython",
    "version": 3
   },
   "file_extension": ".py",
   "mimetype": "text/x-python",
   "name": "python",
   "nbconvert_exporter": "python",
   "pygments_lexer": "ipython3",
   "version": "3.8.10"
  },
  "orig_nbformat": 4,
  "vscode": {
   "interpreter": {
    "hash": "916dbcbb3f70747c44a77c7bcd40155683ae19c65e1c03b4aa3499c5328201f1"
   }
  }
 },
 "nbformat": 4,
 "nbformat_minor": 2
}
